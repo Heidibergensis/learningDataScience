{
  "metadata": {
    "kernelspec": {
      "name": "python",
      "display_name": "Pyolite",
      "language": "python"
    },
    "language_info": {
      "codemirror_mode": {
        "name": "python",
        "version": 3
      },
      "file_extension": ".py",
      "mimetype": "text/x-python",
      "name": "python",
      "nbconvert_exporter": "python",
      "pygments_lexer": "ipython3",
      "version": "3.8"
    }
  },
  "nbformat_minor": 4,
  "nbformat": 4,
  "cells": [
    {
      "cell_type": "markdown",
      "source": "<center>\n    <img src=\"https://s3-api.us-geo.objectstorage.softlayer.net/cf-courses-data/CognitiveClass/Logos/organization_logo/organization_logo.png\" width=\"300\" alt=\"cognitiveclass.ai logo\"  />\n</center>\n",
      "metadata": {}
    },
    {
      "cell_type": "markdown",
      "source": "#### Add your code below following the instructions given in the course\n",
      "metadata": {}
    },
    {
      "cell_type": "markdown",
      "source": "<a href=\"https://cognitiveclass.ai/\"> Cognitive Class</a> ",
      "metadata": {}
    },
    {
      "cell_type": "markdown",
      "source": "https://www.cognitiveclass.ai/?utm_medium=Exinfluencer&utm_source=Exinfluencer&utm_content=000026UJ&utm_term=10006555&utm_id=NA-SkillsNetwork-Channel-SkillsNetworkCoursesIBMDeveloperSkillsNetworkDS0105ENSkillsNetwork20083975-2022-01-01",
      "metadata": {
        "tags": []
      }
    },
    {
      "cell_type": "markdown",
      "source": "<a href=\"https://www.cognitiveclass.ai/?utm_medium=Exinfluencer&utm_source=Exinfluencer&utm_content=000026UJ&utm_term=10006555&utm_id=NA-SkillsNetwork-Channel-SkillsNetworkCoursesIBMDeveloperSkillsNetworkDS0105ENSkillsNetwork20083975-2022-01-01\"> Cognitive Class</a>",
      "metadata": {}
    },
    {
      "cell_type": "markdown",
      "source": "# <a href=\"https://cognitiveclass.ai/\"> Cognitive Class</a> ",
      "metadata": {
        "tags": []
      }
    },
    {
      "cell_type": "markdown",
      "source": "\n# Header 1",
      "metadata": {}
    },
    {
      "cell_type": "markdown",
      "source": "|header|header|\n|------|------|\n|cell|cell|",
      "metadata": {}
    },
    {
      "cell_type": "markdown",
      "source": "|column 1|column 2|column 3|\n|--------|--------|--------|\n|--------|--------|--------|\n|--------|--------|--------|\n|--------|--------|--------|",
      "metadata": {}
    },
    {
      "cell_type": "markdown",
      "source": "|column 1|column 2|column 3|\n|--------|--------|--------|\n|raw 1|raw 1|raw 1|\n|--------|--------|--------|\n|raw 2|raw 2|raw 2|\n|--------|--------|--------|\n|raw 3|raw 3|raw 3|\n|--------|--------|--------|\n|raw 4|raw 4|raw 4|",
      "metadata": {}
    },
    {
      "cell_type": "code",
      "source": "",
      "metadata": {},
      "execution_count": null,
      "outputs": []
    },
    {
      "cell_type": "markdown",
      "source": "|column 1|column 2|column 3|\n|--------|--------|--------|\n|raw 1|raw 1|raw 1|\n|--------|--------|--------|\n|raw 2|raw 2|raw 2|\n|--------|--------|--------|\n|raw 3|raw 3|raw 3|\n|--------|--------|--------|\n|raw 4|raw 4|raw 4|",
      "metadata": {}
    },
    {
      "cell_type": "markdown",
      "source": "|column 1|column 2|column 3|\n|--------|--------|--------|\n|raw 1|raw 1|raw 1|\n|raw 2|raw 2|raw 2|\n|raw 3|raw 3|raw 3|\n|raw 4|raw 4|raw 4|",
      "metadata": {}
    },
    {
      "cell_type": "markdown",
      "source": "# First you start with exploratory data analysis, so this notebook is highly recommended to have a look at:\n<a href=\"https://nbviewer.jupyter.org/github/Tanu-N-Prabhu/Python/blob/master/Exploratory_data_Analysis.ipynb?utm_medium=Exinfluencer&utm_source=Exinfluencer&utm_content=000026UJ&utm_term=10006555&utm_id=NA-SkillsNetwork-Channel-SkillsNetworkCoursesIBMDeveloperSkillsNetworkDS0105ENSkillsNetwork20083975-2022-01-01\"> First you start with exploratory data analysis </a>",
      "metadata": {}
    },
    {
      "cell_type": "markdown",
      "source": "# For data integration / cleansing at a smaller scale, the python library pandas is often used. Please have a look at this notebook: \n\n<a href= \"https://towardsdatascience.com/data-cleaning-with-python-using-pandas-library-c6f4a68ea8eb\" > data integration / cleansing </a>",
      "metadata": {}
    },
    {
      "cell_type": "markdown",
      "source": "# If you want to already experience what clustering is, have a look at this: \n<a href=\" https://nbviewer.jupyter.org/github/temporaer/tutorial_ml_gkbionics/blob/master/2%20-%20KMeans.ipynb\" > clustering </a>",
      "metadata": {}
    },
    {
      "cell_type": "markdown",
      "source": "## And finally, if you want to go for a more in-depth notebook on the iris dataset have a look here: \n\n<a href=\"https://www.kaggle.com/lalitharajesh/iris-dataset-exploratory-data-analysis\"> iris in-depth notebook </a>",
      "metadata": {}
    },
    {
      "cell_type": "markdown",
      "source": "##             LET THE FUN BEGIN ##",
      "metadata": {}
    },
    {
      "cell_type": "code",
      "source": "import pandas as pd\nimport numpy as np\nimport seaborn as sns\nimport matplotlib.pyplot as plt\n%matplotlib inline\nsns.set(color_codes=True)",
      "metadata": {
        "trusted": true
      },
      "execution_count": 2,
      "outputs": [
        {
          "name": "stderr",
          "text": "/lib/python3.9/site-packages/pandas/compat/__init__.py:124: UserWarning: Could not import the lzma module. Your installed Python is incomplete. Attempting to use lzma compression will result in a RuntimeError.\n  warnings.warn(msg)\n",
          "output_type": "stream"
        },
        {
          "ename": "<class 'ModuleNotFoundError'>",
          "evalue": "No module named 'seaborn'",
          "traceback": [
            "\u001b[0;31m---------------------------------------------------------------------------\u001b[0m",
            "\u001b[0;31mModuleNotFoundError\u001b[0m                       Traceback (most recent call last)",
            "Input \u001b[0;32mIn [2]\u001b[0m, in \u001b[0;36m<cell line: 3>\u001b[0;34m()\u001b[0m\n\u001b[1;32m      1\u001b[0m \u001b[38;5;28;01mimport\u001b[39;00m \u001b[38;5;21;01mpandas\u001b[39;00m \u001b[38;5;28;01mas\u001b[39;00m \u001b[38;5;21;01mpd\u001b[39;00m\n\u001b[1;32m      2\u001b[0m \u001b[38;5;28;01mimport\u001b[39;00m \u001b[38;5;21;01mnumpy\u001b[39;00m \u001b[38;5;28;01mas\u001b[39;00m \u001b[38;5;21;01mnp\u001b[39;00m\n\u001b[0;32m----> 3\u001b[0m \u001b[38;5;28;01mimport\u001b[39;00m \u001b[38;5;21;01mseaborn\u001b[39;00m \u001b[38;5;28;01mas\u001b[39;00m \u001b[38;5;21;01msns\u001b[39;00m\n\u001b[1;32m      4\u001b[0m \u001b[38;5;28;01mimport\u001b[39;00m \u001b[38;5;21;01mmatplotlib\u001b[39;00m\u001b[38;5;21;01m.\u001b[39;00m\u001b[38;5;21;01mpyplot\u001b[39;00m \u001b[38;5;28;01mas\u001b[39;00m \u001b[38;5;21;01mplt\u001b[39;00m\n\u001b[1;32m      5\u001b[0m get_ipython()\u001b[38;5;241m.\u001b[39mrun_line_magic(\u001b[38;5;124m'\u001b[39m\u001b[38;5;124mmatplotlib\u001b[39m\u001b[38;5;124m'\u001b[39m, \u001b[38;5;124m'\u001b[39m\u001b[38;5;124minline\u001b[39m\u001b[38;5;124m'\u001b[39m)\n",
            "\u001b[0;31mModuleNotFoundError\u001b[0m: No module named 'seaborn'"
          ],
          "output_type": "error"
        }
      ]
    },
    {
      "cell_type": "code",
      "source": "",
      "metadata": {},
      "execution_count": null,
      "outputs": []
    }
  ]
}